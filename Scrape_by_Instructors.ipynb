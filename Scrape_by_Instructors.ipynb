{
 "cells": [
  {
   "cell_type": "markdown",
   "id": "422aa019-a979-43ac-ab0f-875be3822a64",
   "metadata": {},
   "source": [
    "# Scrape by Instructors\n",
    "\n",
    "This notebook takes in a data frame of instructors' names and filter classes based on them"
   ]
  },
  {
   "cell_type": "code",
   "execution_count": 1,
   "id": "b5d43c3e-11f1-49d9-a8ed-1705c8b629aa",
   "metadata": {},
   "outputs": [],
   "source": [
    "#Load selinimum and automatically install the Chrome Driver\n",
    "from selenium import webdriver\n",
    "from selenium.webdriver.chrome.options import Options\n",
    "from webdriver_manager.chrome import ChromeDriverManager\n",
    "import time\n",
    "import pandas as pd\n",
    "import re\n",
    "\n",
    "from selenium.webdriver.chrome.service import  Service\n",
    "from selenium.webdriver.common.by import By\n",
    "from selenium.webdriver.support.wait import WebDriverWait\n",
    "from selenium.webdriver.support import expected_conditions as EC\n",
    "from getpass import getpass\n",
    "from bs4 import BeautifulSoup\n",
    "\n",
    "from Login import login_to_SIS"
   ]
  },
  {
   "cell_type": "code",
   "execution_count": 3,
   "id": "c85a3e29-0877-4f24-ac08-3516e0c09197",
   "metadata": {},
   "outputs": [
    {
     "name": "stdout",
     "output_type": "stream",
     "text": [
      "Please enter your MSU email: \n"
     ]
    },
    {
     "name": "stdin",
     "output_type": "stream",
     "text": [
      " danganh1\n"
     ]
    },
    {
     "name": "stdout",
     "output_type": "stream",
     "text": [
      "Please enter your password: \n"
     ]
    },
    {
     "name": "stdin",
     "output_type": "stream",
     "text": [
      " ········\n"
     ]
    },
    {
     "name": "stdout",
     "output_type": "stream",
     "text": [
      "Please enter your SMS code: \n"
     ]
    },
    {
     "name": "stdin",
     "output_type": "stream",
     "text": [
      " 651002\n"
     ]
    }
   ],
   "source": [
    "# FireFox Driver\n",
    "driver = webdriver.Firefox()\n",
    "time.sleep(5)\n",
    "\n",
    "login_to_SIS(driver)"
   ]
  },
  {
   "cell_type": "code",
   "execution_count": null,
   "id": "1187ddbb-1854-49e9-a810-504c836e17e7",
   "metadata": {},
   "outputs": [],
   "source": [
    "try:\n",
    "    element = driver.find_element(By.ID, \"win0groupletPTNUI_LAND_REC_GROUPLET$1\") # Click on Classes\n",
    "    element.click()\n",
    "    time.sleep(5)\n",
    "except: # In case the website want to login again\n",
    "    element = driver.find_element(By.ID, 'loginUrl1') # Click on Login\n",
    "    element.click()\n",
    "    time.sleep(5)\n",
    "    \n",
    "    element = driver.find_element(By.ID, \"win0groupletPTNUI_LAND_REC_GROUPLET$1\")  # Click on Classes\n",
    "    element.click()\n",
    "    time.sleep(5)\n",
    "\n",
    "try:\n",
    "    element = driver.find_element(By.ID, 'SCC_LO_FL_WRK_SCC_VIEW_BTN$2')  # Click on Class Search & Enroll\n",
    "    element.click()\n",
    "    time.sleep(5)\n",
    "except:\n",
    "    pass # If there's no Class Search & Enroll, proceed\n",
    "\n",
    "body = driver.page_source\n",
    "soup = BeautifulSoup(body, 'html.parser')\n",
    "cells = soup.find_all(\"tr\", class_=\"ps_grid-row psc_rowact\")\n",
    "semesters = dict()\n",
    "for cell in cells: # Find each semester's ID\n",
    "    semester = cell.find(\"a\", class_=\"ps-link\")\n",
    "    semesters[semester.text] = semester.get(\"href\")\n",
    "\n",
    "previous_semesters = dict()\n",
    "current_semesters = dict()\n",
    "for key, value in semesters.items():\n",
    "    if \"CSTRMPRV\" in value: # Get all previous semesters in a dict\n",
    "        previous_semesters[key] = value\n",
    "    else: # Get all current (following) semesters in another dict\n",
    "        current_semesters[key] = value\n",
    "\n",
    "previous_semesters = dict(reversed(list(previous_semesters.items()))) # Reverse the previous semesters dict\n",
    "semesters = dict(**previous_semesters, **current_semesters) # Create a dict with semesters in chronological order\n",
    "semesters_df = pd.DataFrame.from_dict(semesters, orient='index', columns=['href'])"
   ]
  },
  {
   "cell_type": "code",
   "execution_count": null,
   "id": "457c2798-2b2a-41ac-863e-d7c0867fdd1e",
   "metadata": {},
   "outputs": [],
   "source": [
    "df = pd.read_csv('CMSE_Names.csv')"
   ]
  },
  {
   "cell_type": "code",
   "execution_count": null,
   "id": "9ed22ddf-9a1d-4e3e-ac1a-622258f802bb",
   "metadata": {
    "scrolled": true
   },
   "outputs": [],
   "source": [
    "def search_single_semester_by_instructor(instructor, semester):\n",
    "    href = semesters_df.loc[semester, 'href']\n",
    "    driver.execute_script(href);\n",
    "    time.sleep(5)\n",
    "    \n",
    "    element = driver.find_element(By.ID, 'MSU_CLSRCH_WRK2_CLEAR_FLDS_PB') # Click New Search\n",
    "    driver.execute_script(\"arguments[0].click();\", element)\n",
    "    time.sleep(3)\n",
    "    \n",
    "    element = driver.find_element(By.ID, 'MSU_CLSRCH_WRK2_GROUP3')  # Click the Instructors filter\n",
    "    driver.execute_script(\"arguments[0].click();\", element)\n",
    "    time.sleep(1)\n",
    "    try:\n",
    "        element = driver.find_element(By.ID, 'MSU_CLSRCH_WRK2_MSU_LOAD_INSTRUCTS') # Click Load Instructors\n",
    "        driver.execute_script(\"arguments[0].click();\", element)\n",
    "        time.sleep(5)\n",
    "    except:\n",
    "        pass\n",
    "    \n",
    "    element = driver.find_element(By.ID, 'MSU_CLSRCH_WRK2_LAST_NAME')  # Find the input field\n",
    "    element.send_keys(instructor) \n",
    "    time.sleep(1)\n",
    "\n",
    "    try: \n",
    "        element = driver.find_element(By.ID, \"win9divMSU_CLSRCH_WRK2_GROUPBOX15\")\n",
    "        first = element.find_element(By.CSS_SELECTOR, \"tr:not([style])\") # Find the first check box\n",
    "    except:\n",
    "        return None\n",
    "    \n",
    "    driver.execute_script(\"arguments[0].click();\", first.find_element(By.CLASS_NAME, \"ps-checkbox\")) # Click the first check box\n",
    "    \n",
    "    element = driver.find_element(By.ID, 'MSU_CLSRCH_WRK2_SEARCH_BTN') # Hit Search\n",
    "    driver.execute_script(\"arguments[0].click();\", element)\n",
    "    time.sleep(10)\n",
    "    \n",
    "    i = 0\n",
    "    while True:\n",
    "        try: # Find a checkbox based on index\n",
    "            element = driver.find_element(By.ID, f\"MSU_CLSRCH_I_DV$0_row_{i}\")\n",
    "        except: # If there's no more checkbox, break out of loop\n",
    "            break \n",
    "        name = element.find_element(By.ID, f\"MSU_CLSRCH_WRK2_INSTR_NAME${i}\").text\n",
    "        # If the checkbox is the instructor, don't click\n",
    "        if name == instructor.replace(' ', ''): \n",
    "            i += 1\n",
    "            continue\n",
    "        # Else, click to unselect the checkbox\n",
    "        checkbox = element.find_element(By.ID, f\"MSU_CLSRCH_I_DV$selm${i}$$0\")\n",
    "        driver.execute_script(\"arguments[0].click();\", checkbox)\n",
    "        i += 1\n",
    "    \n",
    "    element = driver.find_element(By.ID, \"MSU_CLSRCH_WRK2_APPLY_PB$186$\") # Hit Filter Results\n",
    "    driver.execute_script(\"arguments[0].click();\", element)\n",
    "    time.sleep(5)\n",
    "\n",
    "    classes = set()\n",
    "    for i in range(50):\n",
    "        try: # Find the class that the instructor teached\n",
    "            element = driver.find_element(By.ID, f\"DESCR100$0_row_{i}\") \n",
    "        except: \n",
    "            break;\n",
    "        class_name = element.find_element(By.XPATH, f\".//div[@id='win9divMSU_RSLT_NAV_WK_HTMLAREA${i}']\").text\n",
    "        classes.add(class_name) # Add the class name to the set\n",
    "        \n",
    "    return classes\n",
    "\n",
    "# df[\"Instructor's Classes\"] = df[\"CMSE Faculty Name\"].apply(\n",
    "#     lambda name: search_single_semester_by_instructor(name, \"Spring 2024\"))\n",
    "# df"
   ]
  },
  {
   "cell_type": "code",
   "execution_count": null,
   "id": "4db55216-d1d3-48fd-b035-8ee4bda856d2",
   "metadata": {},
   "outputs": [],
   "source": [
    "def search_multiple_semesters_by_instructor(instructor, start_semester=None, end_semester=None):\n",
    "    prof_classes = dict()\n",
    "    if not start_semester:\n",
    "        start_semester = semesters_df.iloc[0].name\n",
    "    if not end_semester:\n",
    "        end_semester = semesters_df.iloc[-1].name\n",
    "    subdf = semesters_df.loc[start_semester:end_semester]\n",
    "    \n",
    "    change_semester = \"javascript:submitAction_win9(document.win9,'DERIVED_SSR_FL_SSR_CHANGE_BTN');\"\n",
    "    for index, row in subdf.iterrows():\n",
    "        try: \n",
    "            driver.execute_script(change_semester);\n",
    "            time.sleep(2)\n",
    "            driver.switch_to.frame(0)\n",
    "            driver.execute_script(row.href);\n",
    "            time.sleep(2)\n",
    "            driver.switch_to.default_content()\n",
    "        except:\n",
    "            driver.execute_script(row.href);\n",
    "            time.sleep(2)\n",
    "        \n",
    "        prof_classes[index] = search_single_semester_by_instructor(instructor, index)\n",
    "    return prof_classes\n",
    "\n",
    "search_multiple_semesters_by_instructor('Wang, Jianrong', start_semester=\"Spring Semester 2020\")"
   ]
  },
  {
   "cell_type": "code",
   "execution_count": null,
   "id": "fed58b5d-cc7d-4184-afc0-951aa2d5ad01",
   "metadata": {},
   "outputs": [],
   "source": [
    "df.to_csv('CMSE_Names.csv')"
   ]
  }
 ],
 "metadata": {
  "kernelspec": {
   "display_name": "Python 3 (ipykernel)",
   "language": "python",
   "name": "python3"
  },
  "language_info": {
   "codemirror_mode": {
    "name": "ipython",
    "version": 3
   },
   "file_extension": ".py",
   "mimetype": "text/x-python",
   "name": "python",
   "nbconvert_exporter": "python",
   "pygments_lexer": "ipython3",
   "version": "3.11.7"
  }
 },
 "nbformat": 4,
 "nbformat_minor": 5
}
