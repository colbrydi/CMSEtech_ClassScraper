{
 "cells": [
  {
   "cell_type": "markdown",
   "id": "422aa019-a979-43ac-ab0f-875be3822a64",
   "metadata": {},
   "source": [
    "# Scrape by Instructors\n",
    "\n",
    "This notebook takes in a data frame of instructors' names and filter classes based on them"
   ]
  },
  {
   "cell_type": "code",
   "execution_count": null,
   "id": "b5d43c3e-11f1-49d9-a8ed-1705c8b629aa",
   "metadata": {},
   "outputs": [],
   "source": [
    "#Load selinimum and automatically install the Chrome Driver\n",
    "from selenium import webdriver\n",
    "from selenium.webdriver.chrome.options import Options\n",
    "from webdriver_manager.chrome import ChromeDriverManager\n",
    "import time\n",
    "import pandas as pd\n",
    "import re\n",
    "\n",
    "from selenium.webdriver.chrome.service import Service \n",
    "from selenium.webdriver.common.by import By\n",
    "from selenium.webdriver.support.wait import WebDriverWait\n",
    "from selenium.webdriver.support import expected_conditions as EC\n",
    "from getpass import getpass\n",
    "\n",
    "from Login import *"
   ]
  },
  {
   "cell_type": "code",
   "execution_count": null,
   "id": "ad128582-462f-4f00-a5c8-a2bc106c630f",
   "metadata": {},
   "outputs": [],
   "source": [
    "df = pd.read_csv('CMSE_Names.csv')\n",
    "driver = get_driver('Chrome')\n",
    "time.sleep(3)\n",
    "wait = WebDriverWait(driver, 20)\n",
    "login_to_SIS(driver, authenticate='Phone')\n",
    "semesters_list, previous_semesters = get_semesters_list(driver)"
   ]
  },
  {
   "cell_type": "code",
   "execution_count": null,
   "id": "9ed22ddf-9a1d-4e3e-ac1a-622258f802bb",
   "metadata": {
    "scrolled": true
   },
   "outputs": [],
   "source": [
    "def search_by_instructor(instructor, semester):\n",
    "    try:\n",
    "        switch_to_semester(driver, semester, previous_semesters)\n",
    "        try:\n",
    "            input = driver.find_element(By.ID, 'MSU_CLSRCH_WRK2_LAST_NAME')\n",
    "        except:\n",
    "            input = None\n",
    "        \n",
    "        if not input:\n",
    "            element = driver.find_element(By.ID, 'MSU_CLSRCH_WRK2_GROUP3')  # Click the Instructors filter\n",
    "            driver.execute_script(\"arguments[0].click();\", element)\n",
    "            time.sleep(1)\n",
    "            try: \n",
    "                element = driver.find_element(By.ID, 'MSU_CLSRCH_WRK2_MSU_LOAD_INSTRUCTS') # Click Load Instructors\n",
    "                driver.execute_script(\"arguments[0].click();\", element)\n",
    "                input = wait.until(EC.element_to_be_clickable((By.ID, 'MSU_CLSRCH_WRK2_LAST_NAME')))\n",
    "                time.sleep(1) # More time to adjust\n",
    "            except:\n",
    "                pass # Some older semesters automatically click Load Instructors for us\n",
    "        \n",
    "        input.clear()\n",
    "        input.send_keys(instructor) \n",
    "        time.sleep(1)\n",
    "        try: \n",
    "            element = driver.find_element(By.ID, \"win9divMSU_CLSRCH_WRK2_GROUPBOX15\")\n",
    "            first = element.find_element(By.CSS_SELECTOR, \"tr:not([style='display: none;'])\") # Find the first check box\n",
    "        except:\n",
    "            return None\n",
    "        \n",
    "        driver.execute_script(\"arguments[0].click();\", first.find_element(By.CLASS_NAME, \"ps-checkbox\")) # Click the first check box\n",
    "        element = driver.find_element(By.ID, 'MSU_CLSRCH_WRK2_SEARCH_BTN') # Hit Search\n",
    "        driver.execute_script(\"arguments[0].click();\", element)\n",
    "        wait.until(EC.any_of(EC.element_to_be_clickable((By.ID, \"DESCR100$0_row_0\")),\n",
    "                             EC.element_to_be_clickable((By.ID, \"#ICOK\"))))\n",
    "                   \n",
    "        try: # For some cases, the search returns no results and will throw up an error window\n",
    "            element = driver.find_element(By.ID, '#ICOK') \n",
    "            element.click() # Click OK to get out of the error\n",
    "            time.sleep(1)\n",
    "            return None\n",
    "        except: \n",
    "            pass\n",
    "        \n",
    "        i = 0\n",
    "        while True:\n",
    "            try: # Find a checkbox based on index\n",
    "                element = driver.find_element(By.ID, f\"MSU_CLSRCH_I_DV$0_row_{i}\")\n",
    "            except: # If there's no more checkbox, break out of loop\n",
    "                break \n",
    "            name = element.find_element(By.ID, f\"MSU_CLSRCH_WRK2_INSTR_NAME${i}\").text\n",
    "            # If the checkbox is the instructor, don't click\n",
    "            if name == instructor.replace(' ', ''): \n",
    "                i += 1\n",
    "                continue\n",
    "            # Else, click to unselect the checkbox\n",
    "            checkbox = element.find_element(By.ID, f\"MSU_CLSRCH_I_DV$selm${i}$$0\")\n",
    "            driver.execute_script(\"arguments[0].click();\", checkbox)\n",
    "            i += 1\n",
    "        if i > 1:\n",
    "            result_i = driver.find_element(By.ID, 'MSU_RSLT_NAV_WK_PTPG_ROWS_GRID').text\n",
    "            element = driver.find_element(By.ID, 'MSU_CLSRCH_WRK2_APPLY_PB$186$') # Click Filter Results\n",
    "            driver.execute_script(\"arguments[0].click();\", element)\n",
    "            wait.until(lambda drv: drv.find_element(By.ID, 'MSU_RSLT_NAV_WK_PTPG_ROWS_GRID').text != result_i)\n",
    "            wait.until(EC.element_to_be_clickable((By.ID, \"DESCR100$0_row_0\"))) # More time to adjust\n",
    "\n",
    "        classes = set()\n",
    "        for i in range(50):\n",
    "            try: # Find the class that the instructor taught\n",
    "                element = driver.find_element(By.ID, f\"DESCR100$0_row_{i}\") \n",
    "            except: \n",
    "                break\n",
    "            class_name = element.find_element(By.XPATH, f\".//div[@id='win9divMSU_RSLT_NAV_WK_HTMLAREA${i}']\").text\n",
    "            class_name.replace('Approval Required', '').strip()\n",
    "            class_name.replace('Cross-Listed', '').strip()\n",
    "            classes.add(class_name) # Add the class name to the set\n",
    "    \n",
    "        time.sleep(1)\n",
    "        element = driver.find_element(By.ID, 'MSU_CLSRCH_WRK2_CLEAR_FLDS_PB') # Click New Search\n",
    "        driver.execute_script(\"arguments[0].click();\", element)\n",
    "        wait.until(EC.visibility_of_element_located((By.ID, \"win9divMSU_CLSRCH_WRK2_HTMLAREA3\")))\n",
    "        wait.until(EC.element_to_be_clickable((By.ID, 'MSU_CLSRCH_WRK2_GROUP3')))\n",
    "        return classes\n",
    "    \n",
    "    except: # Fail-save, in case something goes wrong, the code will continue instead of running from the beginning\n",
    "        print(f'Code fails here, run again from {instructor} in {semester}')\n",
    "        return search_by_instructor(instructor, semester)"
   ]
  },
  {
   "cell_type": "code",
   "execution_count": null,
   "id": "4db55216-d1d3-48fd-b035-8ee4bda856d2",
   "metadata": {
    "scrolled": true
   },
   "outputs": [],
   "source": [
    "def search_multiple_semesters(df, start_semester=None, end_semester=None):\n",
    "    if not start_semester:\n",
    "        start_semester = semesters_list[0]\n",
    "    if not end_semester:\n",
    "        end_semester = semesters_list[-1]\n",
    "    start_index = semesters_list.index(start_semester)\n",
    "    end_index = semesters_list.index(end_semester)\n",
    "    sublist = semesters_list[start_index:end_index+1]\n",
    "    for semester in sublist:\n",
    "        df[f\"{semester}\"] = df[\"CMSE Faculty Name\"].apply(\n",
    "            lambda name: search_by_instructor(name, semester))\n",
    "    return df\n",
    "\n",
    "search_multiple_semesters(df, start_semester='Fall Semester 2021', end_semester='Fall Semester 2024')"
   ]
  },
  {
   "cell_type": "code",
   "execution_count": null,
   "id": "fed58b5d-cc7d-4184-afc0-951aa2d5ad01",
   "metadata": {},
   "outputs": [],
   "source": [
    "df.to_csv('CMSE_Names.csv', index=False)"
   ]
  }
 ],
 "metadata": {
  "kernelspec": {
   "display_name": "Python 3 (ipykernel)",
   "language": "python",
   "name": "python3"
  },
  "language_info": {
   "codemirror_mode": {
    "name": "ipython",
    "version": 3
   },
   "file_extension": ".py",
   "mimetype": "text/x-python",
   "name": "python",
   "nbconvert_exporter": "python",
   "pygments_lexer": "ipython3",
   "version": "3.11.7"
  }
 },
 "nbformat": 4,
 "nbformat_minor": 5
}
