{
 "cells": [
  {
   "cell_type": "markdown",
   "id": "41946941-9d59-4ccf-908a-e4c8ef9a0b8e",
   "metadata": {},
   "source": [
    "# Get Faculty Names from NetID\n",
    "This notebook login to outlook (cmsetech@msu.edu), search for the NetID and get the corresponding names of the faculty member"
   ]
  },
  {
   "cell_type": "code",
   "execution_count": null,
   "id": "45dbf443-5847-4b1b-b953-e6737b31004d",
   "metadata": {},
   "outputs": [],
   "source": [
    "from selenium import webdriver\n",
    "from selenium.webdriver.chrome.options import Options\n",
    "from webdriver_manager.chrome import ChromeDriverManager\n",
    "import time\n",
    "import pandas as pd\n",
    "import re\n",
    "import numpy as np\n",
    "\n",
    "from selenium.webdriver.chrome.service import Service\n",
    "from selenium.webdriver.common.by import By\n",
    "from getpass import getpass\n",
    "from bs4 import BeautifulSoup"
   ]
  },
  {
   "cell_type": "code",
   "execution_count": null,
   "id": "dc829620-13ea-4c8a-a61f-e243f70d535c",
   "metadata": {},
   "outputs": [],
   "source": [
    "emails = pd.read_csv(\"CMSE_Email_lists.csv\")\n",
    "emails\n",
    "\n",
    "cmse_facs = [emails['cmse_reg_fac'], emails['cmse_voting_fac'], emails['cmse_fac']]\n",
    "fac_series = pd.concat(cmse_facs, ignore_index=True).drop_duplicates()\n",
    "df = pd.DataFrame(fac_series, columns=['CMSE Faculty NetID'])\n",
    "\n",
    "df['CMSE Faculty NetID'] = df['CMSE Faculty NetID'].apply(lambda txt: None if pd.isna(txt) or \"cmse\" in txt else txt.split('@')[0])\n",
    "df.dropna(inplace=True)\n",
    "df = df.reset_index(drop=True)\n",
    "df.replace('markiwen', 'iwenmark', inplace=True) # Prof. Iwen new actual netID\n",
    "df"
   ]
  },
  {
   "cell_type": "code",
   "execution_count": null,
   "id": "d1c3f0ed-70b5-453a-822d-b423fe50661d",
   "metadata": {},
   "outputs": [],
   "source": [
    "driver = webdriver.Firefox()\n",
    "time.sleep(5)"
   ]
  },
  {
   "cell_type": "code",
   "execution_count": null,
   "id": "f0051842-7a11-4f2f-8cb4-2ab1970dc0f5",
   "metadata": {},
   "outputs": [],
   "source": [
    "url = \"https://outlook.office.com/mail/\"\n",
    "driver.get(url)\n",
    "time.sleep(5)\n",
    "\n",
    "element = driver.find_element(By.ID, 'i0116') \n",
    "element.send_keys('cmsetech@msu.edu')\n",
    "\n",
    "element = driver.find_element(By.ID, 'idSIButton9')\n",
    "element.click()\n",
    "time.sleep(5)"
   ]
  },
  {
   "cell_type": "code",
   "execution_count": null,
   "id": "a483880a-e0ac-4d29-b002-e3140e495189",
   "metadata": {},
   "outputs": [],
   "source": [
    "element = driver.find_element(By.ID, 'input36') # Find the password input\n",
    "print(\"Please enter the CMSETech password: \")\n",
    "password = getpass()\n",
    "element.send_keys(password)\n",
    "\n",
    "element = driver.find_element(By.CLASS_NAME, 'o-form-button-bar') # Click Sign in\n",
    "element.click()\n",
    "time.sleep(5)\n",
    "\n",
    "element = driver.find_element(By.ID, 'idBtn_Back')\n",
    "element.click()\n",
    "time.sleep(5)"
   ]
  },
  {
   "cell_type": "code",
   "execution_count": null,
   "id": "9968fad6-7159-4020-9227-9262459622de",
   "metadata": {},
   "outputs": [],
   "source": [
    "def get_name_from_email(email):\n",
    "    element = driver.find_element(By.ID, 'topSearchInput')\n",
    "    element.clear()\n",
    "    element.send_keys(email+'@msu.edu')\n",
    "    time.sleep(1)\n",
    "    element = driver.find_element(By.CLASS_NAME, 'rPhnB') # To inspect on Mac, press Command + Option + C\n",
    "    return element.text.replace('\\n', '')\n",
    "\n",
    "df['CMSE Faculty Name'] = df['CMSE Faculty NetID'].apply(lambda email: get_name_from_email(email))\n",
    "df"
   ]
  },
  {
   "cell_type": "code",
   "execution_count": null,
   "id": "f9960bf2-7e90-4b7a-b1ce-8bae615c4027",
   "metadata": {},
   "outputs": [],
   "source": [
    "df.to_csv('CMSE_Names.csv', index=False)"
   ]
  }
 ],
 "metadata": {
  "kernelspec": {
   "display_name": "Python 3 (ipykernel)",
   "language": "python",
   "name": "python3"
  },
  "language_info": {
   "codemirror_mode": {
    "name": "ipython",
    "version": 3
   },
   "file_extension": ".py",
   "mimetype": "text/x-python",
   "name": "python",
   "nbconvert_exporter": "python",
   "pygments_lexer": "ipython3",
   "version": "3.11.7"
  }
 },
 "nbformat": 4,
 "nbformat_minor": 5
}
