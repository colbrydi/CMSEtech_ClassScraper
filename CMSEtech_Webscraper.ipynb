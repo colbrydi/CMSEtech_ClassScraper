{
 "cells": [
  {
   "cell_type": "markdown",
   "id": "836a21c7",
   "metadata": {},
   "source": [
    "## CMSEtech Webscraper"
   ]
  },
  {
   "cell_type": "markdown",
   "id": "2dd54fbc",
   "metadata": {},
   "source": [
    "### Extract CMSE classes information"
   ]
  },
  {
   "cell_type": "code",
   "execution_count": null,
   "id": "1dd513b2",
   "metadata": {},
   "outputs": [],
   "source": [
    "from bs4 import BeautifulSoup\n",
    "#import re\n",
    "import pandas as pd"
   ]
  },
  {
   "cell_type": "code",
   "execution_count": null,
   "id": "cb4986a3",
   "metadata": {},
   "outputs": [],
   "source": [
    "with open('./Manage Classes.html') as f:\n",
    "    html_doc = f.read()\n",
    "\n",
    "soup = BeautifulSoup(html_doc, 'html.parser')\n",
    "tables = soup.findAll(\"table\", {\"class\": \"ps_grid-flex\"})\n",
    "tab = tables[1]\n",
    "trs = tab.findAll('tr')\n"
   ]
  },
  {
   "cell_type": "code",
   "execution_count": null,
   "id": "e1618f88",
   "metadata": {},
   "outputs": [],
   "source": [
    "df = pd.DataFrame()  # create dataframe to store values\n",
    "col_names = ['class_name', 'units', 'section', 'time', 'duration','instructor']\n",
    "values = []\n",
    "for tr in trs[1:]:\n",
    "    tds = tr.find_all(\"td\")\n",
    "    vals = []\n",
    "    for td in tds:\n",
    "        #print(td.text)\n",
    "        vals.append(td.text.strip().split('\\n\\n\\n\\n\\n'))\n",
    "        val = [item for sublist in vals for item in sublist]\n",
    "    #vals.append(tds[1].text.strip())\n",
    "    values.append(val)"
   ]
  },
  {
   "cell_type": "code",
   "execution_count": null,
   "id": "216e0bc8",
   "metadata": {},
   "outputs": [],
   "source": [
    "for i, col_name in enumerate(col_names):\n",
    "    df[col_name] = [row[i] for row in values]\n",
    "df"
   ]
  },
  {
   "cell_type": "code",
   "execution_count": null,
   "id": "0c11d395",
   "metadata": {},
   "outputs": [],
   "source": []
  }
 ],
 "metadata": {
  "kernelspec": {
   "display_name": "Python 3 (ipykernel)",
   "language": "python",
   "name": "python3"
  },
  "language_info": {
   "codemirror_mode": {
    "name": "ipython",
    "version": 3
   },
   "file_extension": ".py",
   "mimetype": "text/x-python",
   "name": "python",
   "nbconvert_exporter": "python",
   "pygments_lexer": "ipython3",
   "version": "3.11.3"
  }
 },
 "nbformat": 4,
 "nbformat_minor": 5
}
